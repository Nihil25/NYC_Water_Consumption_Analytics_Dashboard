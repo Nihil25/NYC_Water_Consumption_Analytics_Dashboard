{
 "cells": [
  {
   "cell_type": "code",
   "execution_count": 1,
   "id": "7c86437e-1fec-4856-b091-86b949ef948a",
   "metadata": {},
   "outputs": [],
   "source": [
    "import pandas as pd\n",
    "import numpy as np\n",
    "from sqlalchemy import create_engine, text\n",
    "import urllib.parse"
   ]
  },
  {
   "cell_type": "code",
   "execution_count": 5,
   "id": "54686b82-0f9f-4af6-a69d-47cccdbdeb71",
   "metadata": {},
   "outputs": [],
   "source": [
    "df = pd.read_csv('Water_Consumption_And_Cost__2013_-_Feb_2025__20250513-Copy1.csv')\n",
    "df['Service Start Date'] = pd.to_datetime(df['Service Start Date'], errors='coerce')\n",
    "df['Service End Date'] = pd.to_datetime(df['Service End Date'], errors='coerce')\n",
    "df['Year'] = df['Service Start Date'].dt.year\n",
    "df['Month'] = df['Service Start Date'].dt.month\n",
    "df['Days_in_Period'] = (df['Service End Date'] - df['Service Start Date']).dt.days\n"
   ]
  },
  {
   "cell_type": "code",
   "execution_count": 7,
   "id": "367a0ebe-f434-46c1-ad95-7596fa44cbb2",
   "metadata": {},
   "outputs": [],
   "source": [
    "df = df.rename(columns={\n",
    "    'Development Name': 'Development',\n",
    "    'Consumption (HCF)': 'Consumption_HCF',\n",
    "    'Current Charges': 'Charges_USD',\n",
    "    'Water&Sewer Charges': 'Water_Sewer_Charges'\n",
    "})"
   ]
  },
  {
   "cell_type": "code",
   "execution_count": 9,
   "id": "5da0ee89-7232-4c45-b259-543a9cfb6e2c",
   "metadata": {},
   "outputs": [],
   "source": [
    "for col in ['Consumption_HCF', 'Charges_USD', 'Water_Sewer_Charges']:\n",
    "    df[col] = pd.to_numeric(df[col], errors='coerce')\n",
    "\n",
    "df.dropna(subset=['Consumption_HCF', 'Charges_USD', 'Service Start Date'], inplace=True)\n",
    "\n",
    "df['Cost_Per_HCF'] = df['Charges_USD'] / df['Consumption_HCF']\n",
    "df['Daily_Consumption'] = df['Consumption_HCF'] / df['Days_in_Period']"
   ]
  },
  {
   "cell_type": "code",
   "execution_count": 22,
   "id": "66ef2588-585a-4aa1-9bd6-7864a6821a9e",
   "metadata": {},
   "outputs": [
    {
     "data": {
      "text/plain": [
       "14599"
      ]
     },
     "execution_count": 22,
     "metadata": {},
     "output_type": "execute_result"
    }
   ],
   "source": [
    "# Save cleaned data (optional)\n",
    "df.to_csv('Cleaned_NYC_Water_Consumption.csv-copy1', index=False)\n",
    "\n",
    "# --- Database upload ---\n",
    "username = 'root'\n",
    "password = urllib.parse.quote_plus('Nihil@mysql1')\n",
    "host = 'localhost'\n",
    "port = '3306'\n",
    "db_name = 'water_usage_nyc1'\n",
    "\n",
    "engine = create_engine(f\"mysql+pymysql://{username}:{password}@{host}:{port}/{db_name}\")\n",
    "\n",
    "# Replace inf, -inf with NaN, then drop all rows with NaN\n",
    "df.replace([np.inf, -np.inf], np.nan, inplace=True)\n",
    "df.dropna(inplace=True)\n",
    "\n",
    "# Upload to MySQL\n",
    "df.to_sql('water_consumption', con=engine, if_exists='replace', index=False)\n"
   ]
  },
  {
   "cell_type": "code",
   "execution_count": 24,
   "id": "7c851d09-d72e-4a8f-b9ea-1f78fcedb1a2",
   "metadata": {},
   "outputs": [],
   "source": [
    "with engine.connect() as conn:\n",
    "    conn.execute(text(\"\"\"\n",
    "        CREATE OR REPLACE VIEW vw_monthly_consumption AS\n",
    "        SELECT \n",
    "            Year, Month, Borough,\n",
    "            SUM(Consumption_HCF) AS Total_Consumption,\n",
    "            SUM(Charges_USD) AS Total_Charges,\n",
    "            SUM(Charges_USD) / SUM(Consumption_HCF) AS Cost_Per_HCF\n",
    "        FROM water_consumption\n",
    "        GROUP BY Year, Month, Borough\n",
    "        ORDER BY Year, Month, Borough\n",
    "    \"\"\"))"
   ]
  },
  {
   "cell_type": "code",
   "execution_count": null,
   "id": "6ba4b209-b9b1-4c25-90b7-18834eb78425",
   "metadata": {},
   "outputs": [],
   "source": []
  }
 ],
 "metadata": {
  "kernelspec": {
   "display_name": "Python [conda env:base] *",
   "language": "python",
   "name": "conda-base-py"
  },
  "language_info": {
   "codemirror_mode": {
    "name": "ipython",
    "version": 3
   },
   "file_extension": ".py",
   "mimetype": "text/x-python",
   "name": "python",
   "nbconvert_exporter": "python",
   "pygments_lexer": "ipython3",
   "version": "3.12.7"
  }
 },
 "nbformat": 4,
 "nbformat_minor": 5
}
